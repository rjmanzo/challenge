{
  "nbformat": 4,
  "nbformat_minor": 0,
  "metadata": {
    "colab": {
      "name": "challenge.ipynb",
      "version": "0.3.2",
      "provenance": [],
      "collapsed_sections": []
    },
    "kernelspec": {
      "name": "python3",
      "display_name": "Python 3"
    }
  },
  "cells": [
    {
      "metadata": {
        "id": "9qLV2F8aXnMO",
        "colab_type": "text"
      },
      "cell_type": "markdown",
      "source": [
        "Paso 1: Importo las librerias necesarias para procesar los archivos y calcular los totales requeridos\n"
      ]
    },
    {
      "metadata": {
        "id": "0LdR0SMlUpWk",
        "colab_type": "code",
        "colab": {}
      },
      "cell_type": "code",
      "source": [
        "import pandas as pd\n",
        "import numpy as np\n"
      ],
      "execution_count": 0,
      "outputs": []
    },
    {
      "metadata": {
        "id": "EgJCXafiX3L-",
        "colab_type": "text"
      },
      "cell_type": "markdown",
      "source": [
        "Paso 2: Importo al notebook el archivo input. En nuestro caso, cuando el dialogo nos permita cargar nuestro archivo seleccionamos como input cellphoneslisting.csv. Este archivo esta dentro de la carpeta Inputs.\n",
        "\n"
      ]
    },
    {
      "metadata": {
        "id": "NtzULoABX2_V",
        "colab_type": "code",
        "outputId": "1819e1ce-f294-4b99-b7ac-447fc2991218",
        "colab": {
          "resources": {
            "http://localhost:8080/nbextensions/google.colab/files.js": {
              "data": "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",
              "ok": true,
              "headers": [
                [
                  "content-type",
                  "application/javascript"
                ]
              ],
              "status": 200,
              "status_text": ""
            }
          },
          "base_uri": "https://localhost:8080/",
          "height": 74
        }
      },
      "cell_type": "code",
      "source": [
        "from google.colab import files\n",
        "uploaded = files.upload()"
      ],
      "execution_count": 3,
      "outputs": [
        {
          "output_type": "display_data",
          "data": {
            "text/html": [
              "\n",
              "     <input type=\"file\" id=\"files-60a4904d-b0e5-4485-a2fd-d6a547cba54f\" name=\"files[]\" multiple disabled />\n",
              "     <output id=\"result-60a4904d-b0e5-4485-a2fd-d6a547cba54f\">\n",
              "      Upload widget is only available when the cell has been executed in the\n",
              "      current browser session. Please rerun this cell to enable.\n",
              "      </output>\n",
              "      <script src=\"/nbextensions/google.colab/files.js\"></script> "
            ],
            "text/plain": [
              "<IPython.core.display.HTML object>"
            ]
          },
          "metadata": {
            "tags": []
          }
        },
        {
          "output_type": "stream",
          "text": [
            "Saving cellphoneslisting.csv to cellphoneslisting.csv\n"
          ],
          "name": "stdout"
        }
      ]
    },
    {
      "metadata": {
        "id": "g3JvkhG5UzAU",
        "colab_type": "text"
      },
      "cell_type": "markdown",
      "source": [
        "Paso 3: Leemos el archivo subido. Establecemos como delimitador el espacio '\\x01' y la columna id que funcionará como índice. Imprimos un cout parcial en pantalla.\n"
      ]
    },
    {
      "metadata": {
        "id": "QSayfJRwUt17",
        "colab_type": "code",
        "outputId": "1bfaffd9-4880-4d75-f4a0-493937d6e51b",
        "colab": {
          "base_uri": "https://localhost:8080/",
          "height": 227
        }
      },
      "cell_type": "code",
      "source": [
        "df = pd.read_csv('cellphoneslisting.csv', sep='\\x01',index_col='id')\n",
        "Paodf.head()"
      ],
      "execution_count": 4,
      "outputs": [
        {
          "output_type": "execute_result",
          "data": {
            "text/html": [
              "<div>\n",
              "<style scoped>\n",
              "    .dataframe tbody tr th:only-of-type {\n",
              "        vertical-align: middle;\n",
              "    }\n",
              "\n",
              "    .dataframe tbody tr th {\n",
              "        vertical-align: top;\n",
              "    }\n",
              "\n",
              "    .dataframe thead th {\n",
              "        text-align: right;\n",
              "    }\n",
              "</style>\n",
              "<table border=\"1\" class=\"dataframe\">\n",
              "  <thead>\n",
              "    <tr style=\"text-align: right;\">\n",
              "      <th></th>\n",
              "      <th>title</th>\n",
              "      <th>sales</th>\n",
              "      <th>unit_sales</th>\n",
              "    </tr>\n",
              "    <tr>\n",
              "      <th>id</th>\n",
              "      <th></th>\n",
              "      <th></th>\n",
              "      <th></th>\n",
              "    </tr>\n",
              "  </thead>\n",
              "  <tbody>\n",
              "    <tr>\n",
              "      <th>1</th>\n",
              "      <td>Nokia Asha 503 Dual Sim Liberado  Nuevos   Gar...</td>\n",
              "      <td>2996.99</td>\n",
              "      <td>1</td>\n",
              "    </tr>\n",
              "    <tr>\n",
              "      <th>2</th>\n",
              "      <td>Samsung Galaxy A5 A500 16gb Refabricado 2gb Ra...</td>\n",
              "      <td>31495.00</td>\n",
              "      <td>5</td>\n",
              "    </tr>\n",
              "    <tr>\n",
              "      <th>3</th>\n",
              "      <td>Celular Android Smartphone Liberado 4g Lte Tcl...</td>\n",
              "      <td>77380.00</td>\n",
              "      <td>20</td>\n",
              "    </tr>\n",
              "    <tr>\n",
              "      <th>4</th>\n",
              "      <td>Telefono Celular Lg G7 4g Lte Libre Nuevo Gara...</td>\n",
              "      <td>99997.00</td>\n",
              "      <td>3</td>\n",
              "    </tr>\n",
              "    <tr>\n",
              "      <th>5</th>\n",
              "      <td>Telefono Celular Lg G7 New Platinum Gray 4g Lt...</td>\n",
              "      <td>219992.00</td>\n",
              "      <td>8</td>\n",
              "    </tr>\n",
              "  </tbody>\n",
              "</table>\n",
              "</div>"
            ],
            "text/plain": [
              "                                                title      sales  unit_sales\n",
              "id                                                                          \n",
              "1   Nokia Asha 503 Dual Sim Liberado  Nuevos   Gar...    2996.99           1\n",
              "2   Samsung Galaxy A5 A500 16gb Refabricado 2gb Ra...   31495.00           5\n",
              "3   Celular Android Smartphone Liberado 4g Lte Tcl...   77380.00          20\n",
              "4   Telefono Celular Lg G7 4g Lte Libre Nuevo Gara...   99997.00           3\n",
              "5   Telefono Celular Lg G7 New Platinum Gray 4g Lt...  219992.00           8"
            ]
          },
          "metadata": {
            "tags": []
          },
          "execution_count": 4
        }
      ]
    },
    {
      "metadata": {
        "id": "i324YCtoVTFU",
        "colab_type": "text"
      },
      "cell_type": "markdown",
      "source": [
        "Paso 4: Descargamos un dataset de telefonos por marca actualizado.\n",
        "\n",
        "Link al dataset: https://www.kaggle.com/arwinneil/gsmarena-phone-dataset  \n",
        "\n",
        "Este Dataset fue creado utilizando tecnicas de Scrapping sobre la página GSMarena."
      ]
    },
    {
      "metadata": {
        "id": "ACfmWw0dcnl3",
        "colab_type": "text"
      },
      "cell_type": "markdown",
      "source": [
        "Paso 5: Teniendo dicho dataset. Procesamos externamente el archivo utilizando excel. Nos quedamos con la columna 'brand' (marcas) y finalmente eliminamos los duplicados quedandos así con un total de 108 resultados.\n",
        "\n",
        "Posteriormente armamos  manualmente el listado que puede verse abajo (brand_dict) como un dicccionarío para luego ser utilizado en una función de mapeo. Se agregaron, por ej., a la marca \"Samsung\" otros posibles resultados. Haciendo un scouting manual básico sobre la columna title detectamos una serie de casos similares de modelos de telefonos de la marca pero que no tenían la mención correspondiente a la misma.  \n"
      ]
    },
    {
      "metadata": {
        "id": "2tD0T8gRsN23",
        "colab_type": "code",
        "colab": {}
      },
      "cell_type": "code",
      "source": [
        "brand_dict = {\n",
        "    \"Acer\" :[\"Acer\"],\n",
        "    \"Alcatel\" :[\"Alcatel\"],\n",
        "    \"Allview\" :[\"Allview\"],\n",
        "    \"Amazon\" :[\"Amazon\"],\n",
        "    \"Amoi\" :[\"Amoi\"],\n",
        "    \"Apple\" :[\"Apple\"],\n",
        "    \"Archos\" :[\"Archos\"],\n",
        "    \"Asus\" :[\"Asus\"],\n",
        "    \"AT&T\" :[\"AT&T\"],\n",
        "    \"Benefon\" :[\"Benefon\"],\n",
        "    \"BenQ\" :[\"BenQ\"],\n",
        "    \"BenQ-Siemens\" :[\"BenQ-Siemens\"],\n",
        "    \"Bird\" :[\"Bird\"],\n",
        "    \"BlackBerry\" :[\"BlackBerry\",\"Blackberry\"],\n",
        "    \"Blu\" :[\"Blu\"],\n",
        "    \"Bosch\" :[\"Bosch\"],\n",
        "    \"BQ\" :[\"BQ\"],\n",
        "    \"Casio\" :[\"Casio\"],\n",
        "    \"Cat\" :[\"Cat\"],\n",
        "    \"Celkon\" :[\"Celkon\"],\n",
        "    \"Chea\" :[\"Chea\"],\n",
        "    \"Coolpad\" :[\"Coolpad\"],\n",
        "    \"Dell\" :[\"Dell\"],\n",
        "    \"Emporia\" :[\"Emporia\"],\n",
        "    \"Energizer\" :[\"Energizer\"],\n",
        "    \"Ericsson\" :[\"Ericsson\"],\n",
        "    \"Eten\" :[\"Eten\"],\n",
        "    \"Fujitsu Siemens\" :[\"Fujitsu Siemens\"],\n",
        "    \"Garmin-Asus\" :[\"Garmin-Asus\"],\n",
        "    \"Gigabyte\" :[\"Gigabyte\"],\n",
        "    \"Gionee\" :[\"Gionee\"],\n",
        "    \"Google\" :[\"Google\"],\n",
        "    \"Haier\" :[\"Haier\"],\n",
        "    \"HP\" :[\"HP\"],\n",
        "    \"Htc\" :[\"Htc\"],\n",
        "    \"Huawei\" :[\"Huawei\"],\n",
        "    \"i-mate\" :[\"i-mate\"],\n",
        "    \"i-mobile\" :[\"i-mobile\"],\n",
        "    \"Icemobile\" :[\"Icemobile\"],\n",
        "    \"Innostream\" :[\"Innostream\"],\n",
        "    \"iNQ\" :[\"iNQ\"],\n",
        "    \"Intex\" :[\"Intex\"],\n",
        "    \"Jolla\" :[\"Jolla\"],\n",
        "    \"Karbonn\" :[\"Karbonn\"],\n",
        "    \"Kyocera\" :[\"Kyocera\"],\n",
        "    \"Lava\" :[\"Lava\"],\n",
        "    \"LeEco\" :[\"LeEco\"],\n",
        "    \"Lenovo\" :[\"Lenovo\"],\n",
        "    \"Lg\" :[\"Lg\"],\n",
        "    \"Maxon\" :[\"Maxon\"],\n",
        "    \"Maxwest\" :[\"Maxwest\"],\n",
        "    \"Meizu\" :[\"Meizu\"],\n",
        "    \"Micromax\" :[\"Micromax\"],\n",
        "    \"Microsoft\" :[\"Microsoft\"],\n",
        "    \"Mitac\" :[\"Mitac\"],\n",
        "    \"Mitsubishi\" :[\"Mitsubishi\"],\n",
        "    \"Modu\" :[\"Modu\"],\n",
        "    \"Motorola\" :[\"Motorola\"],\n",
        "    \"MWg\" :[\"MWg\"],\n",
        "    \"NEC\" :[\"NEC\"],\n",
        "    \"Neonode\" :[\"Neonode\"],\n",
        "    \"NIU\" :[\"NIU\"],\n",
        "    \"Nokia\" :[\"Nokia\"],\n",
        "    \"Nvidia\" :[\"Nvidia\"],\n",
        "    \"O2\" :[\"O2\"],\n",
        "    \"OnePlus\" :[\"OnePlus\"],\n",
        "    \"Oppo\" :[\"Oppo\"],\n",
        "    \"Orange\" :[\"Orange\"],\n",
        "    \"Palm\" :[\"Palm\"],\n",
        "    \"Panasonic\" :[\"Panasonic\"],\n",
        "    \"Pantech\" :[\"Pantech\"],\n",
        "    \"Parla\" :[\"Parla\"],\n",
        "    \"Philips\" :[\"Philips\"],\n",
        "    \"Plum\" :[\"Plum\"],\n",
        "    \"Posh\" :[\"Posh\"],\n",
        "    \"Prestigio\" :[\"Prestigio\"],\n",
        "    \"QMobile\" :[\"QMobile\"],\n",
        "    \"Qtek\" :[\"Qtek\"],\n",
        "    \"Sagem\" :[\"Sagem\"],\n",
        "    \"Samsung\": [\"Samsung\", \"Sansung\", \"Galaxy\", \"Samgung\"],\n",
        "    \"Sendo\" :[\"Sendo\"],\n",
        "    \"Sewon\" :[\"Sewon\"],\n",
        "    \"Sharp\" :[\"Sharp\"],\n",
        "    \"Siemens\" :[\"Siemens\"],\n",
        "    \"Sonim\" :[\"Sonim\"],\n",
        "    \"Sony\" :[\"Sony\"],\n",
        "    \"Sony Ericsson\" :[\"Sony Ericsson\"],\n",
        "    \"Spice\" :[\"Spice\"],\n",
        "    \"T-Mobile\" :[\"T-Mobile\"],\n",
        "    \"Tel.Me.\" :[\"Tel.Me.\"],\n",
        "    \"Telit\" :[\"Telit\"],\n",
        "    \"Thuraya\" :[\"Thuraya\"],\n",
        "    \"Toshiba\" :[\"Toshiba\"],\n",
        "    \"Unnecto\" :[\"Unnecto\"],\n",
        "    \"Vertu\" :[\"Vertu\"],\n",
        "    \"verykool\" :[\"verykool\"],\n",
        "    \"vivo\" :[\"vivo\"],\n",
        "    \"VK Mobile\" :[\"VK Mobile\"],\n",
        "    \"Vodafone\" :[\"Vodafone\"],\n",
        "    \"Wiko\" :[\"Wiko\"],\n",
        "    \"WND\" :[\"WND\"],\n",
        "    \"XCute\" :[\"XCute\"],\n",
        "    \"Xiaomi\" :[\"Xiaomi\"],\n",
        "    \"XOLO\" :[\"XOLO\"],\n",
        "    \"Yezz\" :[\"Yezz\"],\n",
        "    \"Yota\" :[\"Yota\"],\n",
        "    \"YU\" :[\"YU\"],\n",
        "    \"ZTE\" :[\"ZTE\"]\n",
        "}\n"
      ],
      "execution_count": 0,
      "outputs": []
    },
    {
      "metadata": {
        "id": "wxH261iNVq1x",
        "colab_type": "text"
      },
      "cell_type": "markdown",
      "source": [
        "Paso 6: Defino la función mapping_brand la cual en función de una lista recibida y el dicionario brand_dict definido previamente,  obtengo la marca que le corresponde a la fila haciendo un mapping palabra a la palabra dentro de la columna title. Si no se encuentra la marca se lo marco como 'Others' (Otros)."
      ]
    },
    {
      "metadata": {
        "id": "nkXkO1d1VgxU",
        "colab_type": "code",
        "colab": {}
      },
      "cell_type": "code",
      "source": [
        "def mapping_brand(val):\n",
        "    for key, values in d.items():\n",
        "        if any(value in val for value in values):\n",
        "            return key\n",
        "    return 'Others'\n",
        "\n",
        "  \n",
        "  "
      ],
      "execution_count": 0,
      "outputs": []
    },
    {
      "metadata": {
        "id": "H-IO-xDnZdOQ",
        "colab_type": "text"
      },
      "cell_type": "markdown",
      "source": [
        "Paso 7: Creo una nueva columna llamada 'brand'. Utilizando la función mapping_brand definiva previamente,  encuentro la marca del telefono en la columna title. La misma columna luego la voy a utilizar para hacer el grouping."
      ]
    },
    {
      "metadata": {
        "id": "5XRJLf2eVilj",
        "colab_type": "code",
        "colab": {}
      },
      "cell_type": "code",
      "source": [
        "df['brand'] = df.title.map(mapping_brand)"
      ],
      "execution_count": 0,
      "outputs": []
    },
    {
      "metadata": {
        "id": "JolwhdCXaAtB",
        "colab_type": "text"
      },
      "cell_type": "markdown",
      "source": [
        "Paso 8: Agrupo y sumo por la columna brand, tanto las unit_sales como las sales. "
      ]
    },
    {
      "metadata": {
        "id": "2u6B4Xe4Vlqr",
        "colab_type": "code",
        "outputId": "03b10f96-051f-476f-bc0c-7e8b5e5b343a",
        "colab": {
          "base_uri": "https://localhost:8080/",
          "height": 227
        }
      },
      "cell_type": "code",
      "source": [
        "output = df.groupby('brand').sum().sort_values(by=['unit_sales'], ascending=False)\n",
        "output.head()\n"
      ],
      "execution_count": 91,
      "outputs": [
        {
          "output_type": "execute_result",
          "data": {
            "text/html": [
              "<div>\n",
              "<style scoped>\n",
              "    .dataframe tbody tr th:only-of-type {\n",
              "        vertical-align: middle;\n",
              "    }\n",
              "\n",
              "    .dataframe tbody tr th {\n",
              "        vertical-align: top;\n",
              "    }\n",
              "\n",
              "    .dataframe thead th {\n",
              "        text-align: right;\n",
              "    }\n",
              "</style>\n",
              "<table border=\"1\" class=\"dataframe\">\n",
              "  <thead>\n",
              "    <tr style=\"text-align: right;\">\n",
              "      <th></th>\n",
              "      <th>sales</th>\n",
              "      <th>unit_sales</th>\n",
              "    </tr>\n",
              "    <tr>\n",
              "      <th>brand</th>\n",
              "      <th></th>\n",
              "      <th></th>\n",
              "    </tr>\n",
              "  </thead>\n",
              "  <tbody>\n",
              "    <tr>\n",
              "      <th>Samsung</th>\n",
              "      <td>88540328.39</td>\n",
              "      <td>8997</td>\n",
              "    </tr>\n",
              "    <tr>\n",
              "      <th>Xiaomi</th>\n",
              "      <td>60658031.54</td>\n",
              "      <td>5063</td>\n",
              "    </tr>\n",
              "    <tr>\n",
              "      <th>Lg</th>\n",
              "      <td>33138908.32</td>\n",
              "      <td>5025</td>\n",
              "    </tr>\n",
              "    <tr>\n",
              "      <th>Motorola</th>\n",
              "      <td>48830655.54</td>\n",
              "      <td>4853</td>\n",
              "    </tr>\n",
              "    <tr>\n",
              "      <th>Others</th>\n",
              "      <td>24957236.96</td>\n",
              "      <td>4221</td>\n",
              "    </tr>\n",
              "  </tbody>\n",
              "</table>\n",
              "</div>"
            ],
            "text/plain": [
              "                sales  unit_sales\n",
              "brand                            \n",
              "Samsung   88540328.39        8997\n",
              "Xiaomi    60658031.54        5063\n",
              "Lg        33138908.32        5025\n",
              "Motorola  48830655.54        4853\n",
              "Others    24957236.96        4221"
            ]
          },
          "metadata": {
            "tags": []
          },
          "execution_count": 91
        }
      ]
    },
    {
      "metadata": {
        "id": "t4LJ8ZatOzin",
        "colab_type": "text"
      },
      "cell_type": "markdown",
      "source": [
        "Paso 9: Exporto el output al archivo resolution_challenge.csv. Este archivo queda contenido en la carpeta outputs"
      ]
    },
    {
      "metadata": {
        "id": "e7dxdfHhv2d-",
        "colab_type": "code",
        "colab": {}
      },
      "cell_type": "code",
      "source": [
        "output.to_csv('resolution_challenge.csv')\n",
        "files.download('resolution_challenge.csv')"
      ],
      "execution_count": 0,
      "outputs": []
    },
    {
      "metadata": {
        "id": "OXWdU_2mlCsl",
        "colab_type": "text"
      },
      "cell_type": "markdown",
      "source": [
        "# **CONCLUSIONES**\n",
        "\n",
        "**Asunciones del dataset:**\n",
        "\n",
        "1.   Las marcas dentro de la columna title se asumieron como bien \"escritas\" o lo más cercano. Hay dos ejemplos, Samsung y Blackberry que contemplan otros valores dentro de la columna title para el brand.\n",
        "2.   Asuminos que las marcas de telefonos obtenidas del dataset bajado de internet se encuentran escritas de la manera correcta tal como se conocen en la actualidad. A su vez, asuminos que las marcas del listado son todas las marcas conocidas y que si llegará a faltar alguna no se considera por que el listado ya incluye casí todas.\n",
        "\n",
        "**Resultados:**\n",
        "\n",
        "1.   Se logro obtener como resultado el listado por marca con el total de unidades de venta y ganacias.\n",
        "2.   Como se puede observar en la columna brands, como 5to. resultado tenemos a la marca 'Others' que no es más que una marca ficticia para aquellos telefonos donde no pudo encontarse un valor conocido. Claramente, nuestro algoritmo de búsqueda esta buscando machear por valores exactos, lo que lleva a no considerar como posibles candidatos a titles donde quizas por un solo mal tipeo no resulte de una marca del listado.\n",
        "3.   Para obtener un mejor resultado deberiamos prepocesar el listado para evitar este tipo de errores o bien utilizar otra técnica menos restrictiva para la búsqueda que permita mapear valores de las marcas con valores parecidos dentro de la columna title.\n",
        "\n",
        "***Otros Metodos probados y futura implementación: ***\n",
        "\n",
        "Se probo machear el listado de brands utilizando Fuzzy maching utilizando la libreria wuzzyfuzzy pero logicamente, al ser el String de la columna title más largo que la palabra buscado los resultados no eran los esperados. Lo ideal para utilizar esta técnica sería limpiar la columna title de preposiciones, palabras no claves y dejar solo aquellas relacionadas a nombres. Luego, nuevamente aplicar aplicar Fuzzy matching y comparar los resultados. Al no ser el nombre de las brands exactos, ya sea por acción u omisión al momento de la toma, debemos procesar el archivo y hacer una mejor búsqueda utilizando esta técnica."
      ]
    }
  ]
}